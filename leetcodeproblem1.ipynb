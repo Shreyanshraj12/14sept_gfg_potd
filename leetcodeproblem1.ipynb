{
  "nbformat": 4,
  "nbformat_minor": 0,
  "metadata": {
    "colab": {
      "provenance": [],
      "authorship_tag": "ABX9TyNZPKOLT+UB1ECDFcFyaPwc",
      "include_colab_link": true
    },
    "kernelspec": {
      "name": "python3",
      "display_name": "Python 3"
    },
    "language_info": {
      "name": "python"
    }
  },
  "cells": [
    {
      "cell_type": "markdown",
      "metadata": {
        "id": "view-in-github",
        "colab_type": "text"
      },
      "source": [
        "<a href=\"https://colab.research.google.com/github/Shreyanshraj12/14sept_gfg_potd/blob/main/leetcodeproblem1.ipynb\" target=\"_parent\"><img src=\"https://colab.research.google.com/assets/colab-badge.svg\" alt=\"Open In Colab\"/></a>"
      ]
    },
    {
      "cell_type": "code",
      "execution_count": null,
      "metadata": {
        "id": "1LWEh9gN7l85"
      },
      "outputs": [],
      "source": [
        "# leetcode proble median of two sorted array\n",
        "nums = sorted(nums1 + nums2)\n",
        "n = len(nums)\n",
        "if n % 2 == 0:\n",
        "  mid = n//2\n",
        "  return (nums[mid] + nums[mid-1])/2\n",
        "else:\n",
        "  return mid[n//2]"
      ]
    }
  ]
}