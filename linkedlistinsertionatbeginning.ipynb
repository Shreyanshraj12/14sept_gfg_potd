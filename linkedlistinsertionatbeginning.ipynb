{
  "nbformat": 4,
  "nbformat_minor": 0,
  "metadata": {
    "colab": {
      "provenance": [],
      "authorship_tag": "ABX9TyOITOUjyfLVJ2CW6gfjVSdR",
      "include_colab_link": true
    },
    "kernelspec": {
      "name": "python3",
      "display_name": "Python 3"
    },
    "language_info": {
      "name": "python"
    }
  },
  "cells": [
    {
      "cell_type": "markdown",
      "metadata": {
        "id": "view-in-github",
        "colab_type": "text"
      },
      "source": [
        "<a href=\"https://colab.research.google.com/github/Shreyanshraj12/14sept_gfg_potd/blob/main/linkedlistinsertionatbeginning.ipynb\" target=\"_parent\"><img src=\"https://colab.research.google.com/assets/colab-badge.svg\" alt=\"Open In Colab\"/></a>"
      ]
    },
    {
      "cell_type": "code",
      "execution_count": 21,
      "metadata": {
        "colab": {
          "base_uri": "https://localhost:8080/"
        },
        "id": "8Z50lItF0uwq",
        "outputId": "526a5ae7-2638-4223-9ba4-5bfa6fb6f477"
      },
      "outputs": [
        {
          "output_type": "stream",
          "name": "stdout",
          "text": [
            "30\n",
            "20\n",
            "10\n",
            "40\n"
          ]
        }
      ],
      "source": [
        "#Insertion At the Beginning Of a LinkedList\n",
        "class Node:\n",
        "  def __init__(self,data):\n",
        "    self.data = data\n",
        "    self.nextptr = None\n",
        "class LinkedList:\n",
        "  def __init__(self):\n",
        "    self.head = None\n",
        "\n",
        "  def InsertAtbeginning(self,new_data):\n",
        "    new_node = Node(new_data)\n",
        "    new_node.nextptr = self.head\n",
        "    self.head = new_node\n",
        "\n",
        "  def printlinkedlist(self):\n",
        "    temp = self.head\n",
        "    while temp:\n",
        "      print(temp.data)\n",
        "      temp = temp.nextptr\n",
        "\n",
        "\n",
        "ll = LinkedList()\n",
        "ll.InsertAtbeginning(40)\n",
        "ll.InsertAtbeginning(10)\n",
        "ll.InsertAtbeginning(20)\n",
        "ll.InsertAtbeginning(30)\n",
        "ll.printlinkedlist()\n",
        ""
      ]
    },
    {
      "cell_type": "code",
      "source": [
        "# Insertion At the End of a linked list\n",
        "class Node:\n",
        "  def __init__(self,data):\n",
        "    self.data = data\n",
        "    self.nextptr = None\n",
        "class LinkedList:\n",
        "  def __init__(self):\n",
        "    self.head = None\n",
        "\n",
        "\n",
        "  def InsertAtEnd(self,new_data):\n",
        "    new_node = Node(new_data)\n",
        "    new_node.nextptr = self.head\n",
        "    self.head = new_node\n",
        "\n",
        "\n",
        "\n",
        "\n",
        "\n",
        "\n",
        "\n"
      ],
      "metadata": {
        "id": "Y1ZpVSDJWS_4",
        "outputId": "9c10e601-a7e3-4526-fbed-531925002cbb",
        "colab": {
          "base_uri": "https://localhost:8080/",
          "height": 106
        }
      },
      "execution_count": 23,
      "outputs": [
        {
          "output_type": "error",
          "ename": "SyntaxError",
          "evalue": "incomplete input (<ipython-input-23-c186f8a9a7e6>, line 3)",
          "traceback": [
            "\u001b[0;36m  File \u001b[0;32m\"<ipython-input-23-c186f8a9a7e6>\"\u001b[0;36m, line \u001b[0;32m3\u001b[0m\n\u001b[0;31m    \u001b[0m\n\u001b[0m    ^\u001b[0m\n\u001b[0;31mSyntaxError\u001b[0m\u001b[0;31m:\u001b[0m incomplete input\n"
          ]
        }
      ]
    }
  ]
}